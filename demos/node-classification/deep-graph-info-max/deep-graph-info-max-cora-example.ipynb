{
 "cells": [
  {
   "cell_type": "code",
   "execution_count": 1,
   "metadata": {},
   "outputs": [],
   "source": [
    "from stellargraph.mapper import CorruptedGraphSAGENodeGenerator, GraphSAGENodeGenerator\n",
    "import stellargraph as sg\n",
    "import networkx as nx\n",
    "from stellargraph import StellarGraph, StellarDiGraph\n",
    "from stellargraph.layer import GraphSAGEInfoMax\n",
    "from stellargraph import datasets\n",
    "import random\n",
    "import numpy as np\n",
    "from sklearn import preprocessing, feature_extraction, model_selection\n",
    "from tensorflow.keras import backend as K\n",
    "from tensorflow.keras.layers import Dot\n",
    "from tensorflow.keras.activations import sigmoid, relu\n",
    "from tensorflow.keras.optimizers import Adam\n",
    "from IPython.display import display, HTML\n",
    "\n",
    "from tensorflow.keras.layers import Input, Dense\n",
    "import tensorflow as tf\n",
    "from tensorflow.keras import Model"
   ]
  },
  {
   "cell_type": "code",
   "execution_count": 2,
   "metadata": {},
   "outputs": [],
   "source": [
    "def info_loss(y_true, y_pred):\n",
    "    \n",
    "    return -tf.math.reduce_mean(tf.math.log(y_pred))"
   ]
  },
  {
   "cell_type": "code",
   "execution_count": 3,
   "metadata": {},
   "outputs": [
    {
     "data": {
      "text/html": [
       "The Cora dataset consists of 2708 scientific publications classified into one of seven classes. The citation network consists of 5429 links. Each publication in the dataset is described by a 0/1-valued word vector indicating the absence/presence of the corresponding word from the dictionary. The dictionary consists of 1433 unique words."
      ],
      "text/plain": [
       "<IPython.core.display.HTML object>"
      ]
     },
     "metadata": {},
     "output_type": "display_data"
    }
   ],
   "source": [
    "dataset = datasets.Cora()\n",
    "display(HTML(dataset.description))\n",
    "G, node_subjects = dataset.load()"
   ]
  },
  {
   "cell_type": "code",
   "execution_count": 4,
   "metadata": {},
   "outputs": [],
   "source": [
    "train_subjects, test_subjects = model_selection.train_test_split(\n",
    "    node_subjects, train_size=0.1, test_size=None, stratify=node_subjects\n",
    ")\n",
    "\n",
    "target_encoding = preprocessing.LabelBinarizer()\n",
    "\n",
    "train_targets = target_encoding.fit_transform(train_subjects)\n",
    "test_targets = target_encoding.transform(test_subjects)"
   ]
  },
  {
   "cell_type": "code",
   "execution_count": 5,
   "metadata": {},
   "outputs": [],
   "source": [
    "batch_size = 50\n",
    "num_samples = [10, 5]\n",
    "\n",
    "generator = CorruptedGraphSAGENodeGenerator(G, batch_size, num_samples)\n",
    "gen = generator.flow(G.nodes(), targets=np.ones(len(G.nodes())))\n",
    "\n",
    "graph_sage_infomax = GraphSAGEInfoMax([64, 64,], generator=generator, normalize=\"l2\")\n",
    "\n",
    "x_in, x_out = graph_sage_infomax.unsupervised_node_model()\n",
    "\n",
    "model = Model(inputs=x_in, outputs=x_out)\n",
    "model.compile(loss=info_loss, optimizer=Adam(lr=1e-3))"
   ]
  },
  {
   "cell_type": "code",
   "execution_count": 6,
   "metadata": {},
   "outputs": [
    {
     "name": "stdout",
     "output_type": "stream",
     "text": [
      "WARNING:tensorflow:sample_weight modes were coerced from\n",
      "  ...\n",
      "    to  \n",
      "  ['...']\n",
      "Train for 55 steps\n",
      "Epoch 1/20\n",
      "55/55 [==============================] - 3s 56ms/step - loss: 0.6622\n",
      "Epoch 2/20\n",
      "55/55 [==============================] - 2s 42ms/step - loss: 0.5466\n",
      "Epoch 3/20\n",
      "55/55 [==============================] - 2s 42ms/step - loss: 0.4617\n",
      "Epoch 4/20\n",
      "55/55 [==============================] - 2s 42ms/step - loss: 0.3906\n",
      "Epoch 5/20\n",
      "55/55 [==============================] - 2s 42ms/step - loss: 0.3541\n",
      "Epoch 6/20\n",
      "55/55 [==============================] - 2s 45ms/step - loss: 0.3312\n",
      "Epoch 7/20\n",
      "55/55 [==============================] - 2s 43ms/step - loss: 0.3104\n",
      "Epoch 8/20\n",
      "55/55 [==============================] - 2s 43ms/step - loss: 0.2846\n",
      "Epoch 9/20\n",
      "55/55 [==============================] - 2s 42ms/step - loss: 0.2770\n",
      "Epoch 10/20\n",
      "55/55 [==============================] - 2s 42ms/step - loss: 0.2582\n",
      "Epoch 11/20\n",
      "55/55 [==============================] - 2s 42ms/step - loss: 0.2400\n",
      "Epoch 12/20\n",
      "55/55 [==============================] - 2s 42ms/step - loss: 0.2366\n",
      "Epoch 13/20\n",
      "55/55 [==============================] - 2s 43ms/step - loss: 0.2375\n",
      "Epoch 14/20\n",
      "55/55 [==============================] - 2s 42ms/step - loss: 0.2208\n",
      "Epoch 15/20\n",
      "55/55 [==============================] - 2s 43ms/step - loss: 0.2157\n",
      "Epoch 16/20\n",
      "55/55 [==============================] - 2s 42ms/step - loss: 0.2151\n",
      "Epoch 17/20\n",
      "55/55 [==============================] - 2s 43ms/step - loss: 0.2139\n",
      "Epoch 18/20\n",
      "55/55 [==============================] - 2s 44ms/step - loss: 0.1939\n",
      "Epoch 19/20\n",
      "55/55 [==============================] - 2s 44ms/step - loss: 0.1834\n",
      "Epoch 20/20\n",
      "55/55 [==============================] - 2s 42ms/step - loss: 0.1826\n"
     ]
    },
    {
     "data": {
      "text/plain": [
       "<tensorflow.python.keras.callbacks.History at 0x1a364b9c50>"
      ]
     },
     "execution_count": 6,
     "metadata": {},
     "output_type": "execute_result"
    }
   ],
   "source": [
    "model.fit(gen, epochs=20)"
   ]
  },
  {
   "cell_type": "code",
   "execution_count": 7,
   "metadata": {},
   "outputs": [],
   "source": [
    "x_emb_in = model.inputs[:len(graph_sage_infomax.neighbourhood_sizes)]\n",
    "x_emb_out = model.get_layer(\"GRAPH_SAGE_NORM\").output\n",
    "emb_model = Model(inputs=x_emb_in, outputs=x_emb_out)"
   ]
  },
  {
   "cell_type": "code",
   "execution_count": 8,
   "metadata": {},
   "outputs": [
    {
     "name": "stdout",
     "output_type": "stream",
     "text": [
      "(50, 1, 1433)\n",
      "(50, 10, 1433)\n",
      "(50, 50, 1433)\n",
      "(50, 1, 1433)\n",
      "(50, 10, 1433)\n",
      "(50, 50, 1433)\n",
      "(50, 0, 1433)\n"
     ]
    }
   ],
   "source": [
    "for x in gen:\n",
    "    for y in x[0]:\n",
    "        print(y.shape)\n",
    "    break"
   ]
  },
  {
   "cell_type": "code",
   "execution_count": 9,
   "metadata": {},
   "outputs": [],
   "source": [
    "gsgenerator = GraphSAGENodeGenerator(G, batch_size, num_samples)\n",
    "\n",
    "gstrain_gen = gsgenerator.flow(train_subjects.index,)\n",
    "gstest_gen = gsgenerator.flow(test_subjects.index,)"
   ]
  },
  {
   "cell_type": "code",
   "execution_count": 10,
   "metadata": {},
   "outputs": [],
   "source": [
    "test_embeddings = emb_model.predict(gstest_gen)\n",
    "train_embeddings = emb_model.predict(gstrain_gen)"
   ]
  },
  {
   "cell_type": "code",
   "execution_count": 11,
   "metadata": {},
   "outputs": [
    {
     "name": "stderr",
     "output_type": "stream",
     "text": [
      "/Users/kieranricardo/anaconda3/envs/tf2-stellar/lib/python3.6/site-packages/sklearn/linear_model/logistic.py:432: FutureWarning: Default solver will be changed to 'lbfgs' in 0.22. Specify a solver to silence this warning.\n",
      "  FutureWarning)\n",
      "/Users/kieranricardo/anaconda3/envs/tf2-stellar/lib/python3.6/site-packages/sklearn/linear_model/logistic.py:469: FutureWarning: Default multi_class will be changed to 'auto' in 0.22. Specify the multi_class option to silence this warning.\n",
      "  \"this warning.\", FutureWarning)\n"
     ]
    },
    {
     "data": {
      "text/plain": [
       "0.32895816242821985"
      ]
     },
     "execution_count": 11,
     "metadata": {},
     "output_type": "execute_result"
    }
   ],
   "source": [
    "from sklearn.linear_model import LogisticRegression\n",
    "\n",
    "lr = LogisticRegression()\n",
    "lr.fit(train_embeddings, train_subjects)\n",
    "\n",
    "y_pred = lr.predict(test_embeddings)\n",
    "(y_pred == test_subjects).mean()"
   ]
  },
  {
   "cell_type": "markdown",
   "metadata": {},
   "source": [
    "# END OF DEMO"
   ]
  },
  {
   "cell_type": "code",
   "execution_count": 12,
   "metadata": {},
   "outputs": [
    {
     "name": "stderr",
     "output_type": "stream",
     "text": [
      "/Users/kieranricardo/anaconda3/envs/tf2-stellar/lib/python3.6/site-packages/sklearn/linear_model/logistic.py:432: FutureWarning: Default solver will be changed to 'lbfgs' in 0.22. Specify a solver to silence this warning.\n",
      "  FutureWarning)\n",
      "/Users/kieranricardo/anaconda3/envs/tf2-stellar/lib/python3.6/site-packages/sklearn/linear_model/logistic.py:469: FutureWarning: Default multi_class will be changed to 'auto' in 0.22. Specify the multi_class option to silence this warning.\n",
      "  \"this warning.\", FutureWarning)\n"
     ]
    },
    {
     "data": {
      "text/plain": [
       "0.6755537325676785"
      ]
     },
     "execution_count": 12,
     "metadata": {},
     "output_type": "execute_result"
    }
   ],
   "source": [
    "lr = LogisticRegression()\n",
    "lr.fit(G.node_features(train_subjects.index), train_subjects)\n",
    "\n",
    "y_pred = lr.predict(G.node_features(test_subjects.index))\n",
    "(y_pred == test_subjects).mean()"
   ]
  },
  {
   "cell_type": "code",
   "execution_count": 13,
   "metadata": {},
   "outputs": [
    {
     "data": {
      "text/plain": [
       "((270, 1433), (270, 64))"
      ]
     },
     "execution_count": 13,
     "metadata": {},
     "output_type": "execute_result"
    }
   ],
   "source": [
    "G.node_features(train_subjects.index).shape, train_embeddings.shape"
   ]
  },
  {
   "cell_type": "code",
   "execution_count": 14,
   "metadata": {},
   "outputs": [],
   "source": [
    "# Create tensor inputs for neighbourhood sampling\n",
    "x_inp = [\n",
    "    Input(shape=(s, graph_sage_infomax.input_feature_size)) for s in graph_sage_infomax.neighbourhood_sizes\n",
    "]\n",
    "\n",
    "x_inp_corrupted = [\n",
    "    Input(shape=(s, graph_sage_infomax.input_feature_size)) for s in graph_sage_infomax.neighbourhood_sizes\n",
    "]\n",
    "# Output from GraphSAGE model\n",
    "node_feats = graph_sage_infomax(x_inp)\n",
    "\n",
    "node_feats_corrupted = graph_sage_infomax(x_inp_corrupted)\n",
    "\n",
    "summary = sigmoid(tf.math.reduce_mean(node_feats, axis=0))\n",
    "D = Dense(summary.shape[0], use_bias=False)\n",
    "\n",
    "scores = sigmoid(tf.linalg.matvec(D(node_feats), summary))\n",
    "scores_corrupted = 1 - sigmoid(tf.linalg.matvec(D(node_feats_corrupted), summary))\n",
    "\n",
    "lscores = tf.math.log(scores)\n",
    "lscores_corrupted = tf.math.log(scores_corrupted)\n",
    "\n",
    "pm_out = tf.stack([scores, scores_corrupted], axis=1)\n",
    "x_out = tf.stack([lscores, lscores_corrupted], axis=1)"
   ]
  },
  {
   "cell_type": "code",
   "execution_count": 15,
   "metadata": {},
   "outputs": [
    {
     "data": {
      "text/plain": [
       "array([[0.45425794, 0.41555315],\n",
       "       [0.56886566, 0.6810629 ],\n",
       "       [0.41740674, 0.64435476],\n",
       "       [0.53161174, 0.76607174],\n",
       "       [0.5371841 , 0.510937  ],\n",
       "       [0.26571882, 0.54920506],\n",
       "       [0.37447605, 0.53327376],\n",
       "       [0.5255777 , 0.6897084 ],\n",
       "       [0.5617466 , 0.57636213],\n",
       "       [0.32220683, 0.48119074],\n",
       "       [0.7011592 , 0.6251826 ],\n",
       "       [0.37174746, 0.7186746 ],\n",
       "       [0.35635832, 0.7043456 ],\n",
       "       [0.5556387 , 0.63467777],\n",
       "       [0.45765993, 0.6928941 ],\n",
       "       [0.35241443, 0.4847107 ],\n",
       "       [0.17910449, 0.78752965],\n",
       "       [0.55537915, 0.20882374],\n",
       "       [0.34006974, 0.47681653],\n",
       "       [0.58879447, 0.5290415 ],\n",
       "       [0.4058775 , 0.41675746],\n",
       "       [0.4520637 , 0.6473123 ],\n",
       "       [0.56054014, 0.55829203],\n",
       "       [0.5313442 , 0.74214965],\n",
       "       [0.48606178, 0.6824586 ],\n",
       "       [0.42257836, 0.45931977],\n",
       "       [0.5874176 , 0.66912305],\n",
       "       [0.37184227, 0.6455971 ],\n",
       "       [0.6507781 , 0.7001918 ],\n",
       "       [0.6163117 , 0.6672619 ],\n",
       "       [0.22988614, 0.7609477 ],\n",
       "       [0.38012198, 0.66739345],\n",
       "       [0.31031618, 0.697212  ],\n",
       "       [0.27329955, 0.7669212 ],\n",
       "       [0.38428244, 0.7758572 ],\n",
       "       [0.5410538 , 0.368416  ],\n",
       "       [0.30851766, 0.56227297],\n",
       "       [0.64808893, 0.5765438 ],\n",
       "       [0.5937972 , 0.7662444 ],\n",
       "       [0.31207517, 0.56515706],\n",
       "       [0.39752865, 0.4256059 ],\n",
       "       [0.39872578, 0.68785274],\n",
       "       [0.6997404 , 0.7838001 ],\n",
       "       [0.48275036, 0.50626206],\n",
       "       [0.56773645, 0.4362458 ],\n",
       "       [0.44442278, 0.7373812 ],\n",
       "       [0.57069856, 0.6618067 ],\n",
       "       [0.57509506, 0.6067064 ],\n",
       "       [0.42919296, 0.71601725],\n",
       "       [0.56286275, 0.6058831 ]], dtype=float32)"
      ]
     },
     "execution_count": 15,
     "metadata": {},
     "output_type": "execute_result"
    }
   ],
   "source": [
    "vm = Model(inputs=x_inp + x_inp_corrupted, outputs=node_feats)\n",
    "pm = Model(inputs=x_inp + x_inp_corrupted, outputs=pm_out)\n",
    "model2 = Model(inputs=x_inp + x_inp_corrupted, outputs=x_out)\n",
    "pm.predict(x[0])"
   ]
  },
  {
   "cell_type": "code",
   "execution_count": 16,
   "metadata": {
    "scrolled": true
   },
   "outputs": [
    {
     "name": "stdout",
     "output_type": "stream",
     "text": [
      "WARNING:tensorflow:sample_weight modes were coerced from\n",
      "  ...\n",
      "    to  \n",
      "  ['...']\n"
     ]
    },
    {
     "data": {
      "text/plain": [
       "<tensorflow.python.keras.callbacks.History at 0x1a388fe128>"
      ]
     },
     "execution_count": 16,
     "metadata": {},
     "output_type": "execute_result"
    }
   ],
   "source": [
    "model2.compile(loss=info_loss, optimizer='adam')\n",
    "model2.fit(gen, epochs=10, verbose=0)"
   ]
  },
  {
   "cell_type": "code",
   "execution_count": 17,
   "metadata": {},
   "outputs": [
    {
     "data": {
      "text/plain": [
       "array([[nan, nan],\n",
       "       [nan, nan],\n",
       "       [nan, nan],\n",
       "       [nan, nan],\n",
       "       [nan, nan],\n",
       "       [nan, nan],\n",
       "       [nan, nan],\n",
       "       [nan, nan],\n",
       "       [nan, nan],\n",
       "       [nan, nan],\n",
       "       [nan, nan],\n",
       "       [nan, nan],\n",
       "       [nan, nan],\n",
       "       [nan, nan],\n",
       "       [nan, nan],\n",
       "       [nan, nan],\n",
       "       [nan, nan],\n",
       "       [nan, nan],\n",
       "       [nan, nan],\n",
       "       [nan, nan],\n",
       "       [nan, nan],\n",
       "       [nan, nan],\n",
       "       [nan, nan],\n",
       "       [nan, nan],\n",
       "       [nan, nan],\n",
       "       [nan, nan],\n",
       "       [nan, nan],\n",
       "       [nan, nan],\n",
       "       [nan, nan],\n",
       "       [nan, nan],\n",
       "       [nan, nan],\n",
       "       [nan, nan],\n",
       "       [nan, nan],\n",
       "       [nan, nan],\n",
       "       [nan, nan],\n",
       "       [nan, nan],\n",
       "       [nan, nan],\n",
       "       [nan, nan],\n",
       "       [nan, nan],\n",
       "       [nan, nan],\n",
       "       [nan, nan],\n",
       "       [nan, nan],\n",
       "       [nan, nan],\n",
       "       [nan, nan],\n",
       "       [nan, nan],\n",
       "       [nan, nan],\n",
       "       [nan, nan],\n",
       "       [nan, nan],\n",
       "       [nan, nan],\n",
       "       [nan, nan]], dtype=float32)"
      ]
     },
     "execution_count": 17,
     "metadata": {},
     "output_type": "execute_result"
    }
   ],
   "source": [
    "pm.predict(x[0])"
   ]
  }
 ],
 "metadata": {
  "kernelspec": {
   "display_name": "Python 3",
   "language": "python",
   "name": "python3"
  },
  "language_info": {
   "codemirror_mode": {
    "name": "ipython",
    "version": 3
   },
   "file_extension": ".py",
   "mimetype": "text/x-python",
   "name": "python",
   "nbconvert_exporter": "python",
   "pygments_lexer": "ipython3",
   "version": "3.6.9"
  }
 },
 "nbformat": 4,
 "nbformat_minor": 2
}
