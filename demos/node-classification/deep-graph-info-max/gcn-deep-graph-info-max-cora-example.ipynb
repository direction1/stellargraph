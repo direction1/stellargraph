{
 "cells": [
  {
   "cell_type": "code",
   "execution_count": 1,
   "metadata": {},
   "outputs": [],
   "source": [
    "from stellargraph.mapper import CorruptedFullBatchNodeGenerator\n",
    "from stellargraph import StellarGraph\n",
    "from stellargraph.layer import GCNInfoMax\n",
    "from stellargraph import datasets\n",
    "\n",
    "import random\n",
    "import numpy as np\n",
    "from sklearn import preprocessing, feature_extraction, model_selection\n",
    "from sklearn.linear_model import LogisticRegression\n",
    "from IPython.display import display, HTML\n",
    "\n",
    "from tensorflow.keras.optimizers import Adam\n",
    "from tensorflow.keras.layers import Input, Dense\n",
    "import tensorflow as tf\n",
    "from tensorflow.keras import Model"
   ]
  },
  {
   "cell_type": "code",
   "execution_count": 2,
   "metadata": {},
   "outputs": [],
   "source": [
    "def info_loss(y_true, y_pred):\n",
    "    \n",
    "    return -tf.math.reduce_mean(tf.math.log(y_pred))"
   ]
  },
  {
   "cell_type": "code",
   "execution_count": 3,
   "metadata": {},
   "outputs": [
    {
     "data": {
      "text/html": [
       "The Cora dataset consists of 2708 scientific publications classified into one of seven classes. The citation network consists of 5429 links. Each publication in the dataset is described by a 0/1-valued word vector indicating the absence/presence of the corresponding word from the dictionary. The dictionary consists of 1433 unique words."
      ],
      "text/plain": [
       "<IPython.core.display.HTML object>"
      ]
     },
     "metadata": {},
     "output_type": "display_data"
    }
   ],
   "source": [
    "dataset = datasets.Cora()\n",
    "display(HTML(dataset.description))\n",
    "G, node_subjects = dataset.load()"
   ]
  },
  {
   "cell_type": "code",
   "execution_count": 4,
   "metadata": {},
   "outputs": [],
   "source": [
    "train_subjects, test_subjects = model_selection.train_test_split(\n",
    "    node_subjects, train_size=0.1, test_size=None, stratify=node_subjects\n",
    ")\n",
    "\n",
    "target_encoding = preprocessing.LabelBinarizer()\n",
    "\n",
    "train_targets = target_encoding.fit_transform(train_subjects)\n",
    "test_targets = target_encoding.transform(test_subjects)"
   ]
  },
  {
   "cell_type": "code",
   "execution_count": 5,
   "metadata": {},
   "outputs": [
    {
     "name": "stdout",
     "output_type": "stream",
     "text": [
      "Using GCN (local pooling) filters...\n"
     ]
    }
   ],
   "source": [
    "generator = CorruptedFullBatchNodeGenerator(G,)\n",
    "gen = generator.flow(G.nodes(),)\n",
    "\n",
    "infomax = GCNInfoMax(\n",
    "    [512,], \n",
    "    activations=[tf.keras.layers.PReLU(),], \n",
    "    generator=generator, \n",
    "    bias=True,\n",
    ")\n",
    "\n",
    "x_in, x_out = infomax.unsupervised_node_model()\n",
    "\n",
    "model = Model(inputs=x_in, outputs=x_out)\n",
    "model.compile(loss=tf.nn.sigmoid_cross_entropy_with_logits, optimizer=Adam(lr=1e-3))"
   ]
  },
  {
   "cell_type": "code",
   "execution_count": 10,
   "metadata": {},
   "outputs": [
    {
     "name": "stdout",
     "output_type": "stream",
     "text": [
      "WARNING:tensorflow:sample_weight modes were coerced from\n",
      "  ...\n",
      "    to  \n",
      "  ['...']\n",
      "Train for 1 steps\n",
      "Epoch 1/20\n",
      "1/1 [==============================] - 0s 146ms/step - loss: 0.7475\n",
      "Epoch 2/20\n",
      "1/1 [==============================] - 0s 125ms/step - loss: 0.7443\n",
      "Epoch 3/20\n",
      "1/1 [==============================] - 0s 113ms/step - loss: 0.7371\n",
      "Epoch 4/20\n",
      "1/1 [==============================] - 0s 117ms/step - loss: 0.7280\n",
      "Epoch 5/20\n",
      "1/1 [==============================] - 0s 118ms/step - loss: 0.7188\n",
      "Epoch 6/20\n",
      "1/1 [==============================] - 0s 112ms/step - loss: 0.7106\n",
      "Epoch 7/20\n",
      "1/1 [==============================] - 0s 117ms/step - loss: 0.7040\n",
      "Epoch 8/20\n",
      "1/1 [==============================] - 0s 117ms/step - loss: 0.6992\n",
      "Epoch 9/20\n",
      "1/1 [==============================] - 0s 117ms/step - loss: 0.6961\n",
      "Epoch 10/20\n",
      "1/1 [==============================] - 0s 125ms/step - loss: 0.6944\n",
      "Epoch 11/20\n",
      "1/1 [==============================] - 0s 127ms/step - loss: 0.6937\n",
      "Epoch 12/20\n",
      "1/1 [==============================] - 0s 124ms/step - loss: 0.6938\n",
      "Epoch 13/20\n",
      "1/1 [==============================] - 0s 129ms/step - loss: 0.6944\n",
      "Epoch 14/20\n",
      "1/1 [==============================] - 0s 115ms/step - loss: 0.6952\n",
      "Epoch 15/20\n",
      "1/1 [==============================] - 0s 117ms/step - loss: 0.6961\n",
      "Epoch 16/20\n",
      "1/1 [==============================] - 0s 117ms/step - loss: 0.6969\n",
      "Epoch 17/20\n",
      "1/1 [==============================] - 0s 118ms/step - loss: 0.6975\n",
      "Epoch 18/20\n",
      "1/1 [==============================] - 0s 118ms/step - loss: 0.6979\n",
      "Epoch 19/20\n",
      "1/1 [==============================] - 0s 121ms/step - loss: 0.6981\n",
      "Epoch 20/20\n",
      "1/1 [==============================] - 0s 116ms/step - loss: 0.6980\n"
     ]
    },
    {
     "data": {
      "text/plain": [
       "<tensorflow.python.keras.callbacks.History at 0x1a3e7f5b70>"
      ]
     },
     "execution_count": 10,
     "metadata": {},
     "output_type": "execute_result"
    }
   ],
   "source": [
    "model.fit(gen, epochs=20)"
   ]
  },
  {
   "cell_type": "code",
   "execution_count": 11,
   "metadata": {},
   "outputs": [],
   "source": [
    "x_emb_in, x_emb_out = infomax.embedding_model(model)\n",
    "emb_model = Model(inputs=x_emb_in, outputs=x_emb_out)"
   ]
  },
  {
   "cell_type": "code",
   "execution_count": 12,
   "metadata": {},
   "outputs": [
    {
     "name": "stderr",
     "output_type": "stream",
     "text": [
      "/Users/kieranricardo/anaconda3/envs/tf2-stellar/lib/python3.6/site-packages/sklearn/linear_model/logistic.py:432: FutureWarning: Default solver will be changed to 'lbfgs' in 0.22. Specify a solver to silence this warning.\n",
      "  FutureWarning)\n",
      "/Users/kieranricardo/anaconda3/envs/tf2-stellar/lib/python3.6/site-packages/sklearn/linear_model/logistic.py:469: FutureWarning: Default multi_class will be changed to 'auto' in 0.22. Specify the multi_class option to silence this warning.\n",
      "  \"this warning.\", FutureWarning)\n"
     ]
    },
    {
     "data": {
      "text/plain": [
       "0.32198523379819527"
      ]
     },
     "execution_count": 12,
     "metadata": {},
     "output_type": "execute_result"
    }
   ],
   "source": [
    "test_gen = generator.flow(test_subjects.index)\n",
    "train_gen = generator.flow(train_subjects.index)\n",
    "\n",
    "test_embeddings = emb_model.predict(test_gen)\n",
    "train_embeddings = emb_model.predict(train_gen)\n",
    "\n",
    "lr = LogisticRegression()\n",
    "lr.fit(train_embeddings, train_subjects)\n",
    "\n",
    "y_pred = lr.predict(test_embeddings)\n",
    "(y_pred == test_subjects).mean()"
   ]
  },
  {
   "cell_type": "code",
   "execution_count": 13,
   "metadata": {},
   "outputs": [
    {
     "data": {
      "text/plain": [
       "(0.372261, 0.50547016)"
      ]
     },
     "execution_count": 13,
     "metadata": {},
     "output_type": "execute_result"
    }
   ],
   "source": [
    "tf.math.sigmoid(model.predict(test_gen)).numpy().min(), tf.math.sigmoid(model.predict(test_gen)).numpy().max()"
   ]
  },
  {
   "cell_type": "markdown",
   "metadata": {},
   "source": [
    "# END OF DEMO"
   ]
  }
 ],
 "metadata": {
  "kernelspec": {
   "display_name": "Python 3",
   "language": "python",
   "name": "python3"
  },
  "language_info": {
   "codemirror_mode": {
    "name": "ipython",
    "version": 3
   },
   "file_extension": ".py",
   "mimetype": "text/x-python",
   "name": "python",
   "nbconvert_exporter": "python",
   "pygments_lexer": "ipython3",
   "version": "3.6.9"
  }
 },
 "nbformat": 4,
 "nbformat_minor": 2
}
