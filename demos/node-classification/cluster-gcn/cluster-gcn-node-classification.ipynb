{
 "cells": [
  {
   "cell_type": "markdown",
   "metadata": {},
   "source": [
    "# Cluster-GCN for node classification"
   ]
  },
  {
   "cell_type": "markdown",
   "metadata": {},
   "source": [
    "This notebook demonstrates how to use `StellarGraph`'s implementation of *Cluster-GCN*, [1], for node classification on a homogeneous graph.\n",
    "\n",
    "*Cluster-GCN* is an extension of the Graph Convolutional Network (GCN) algorithm, [2], for scalable training of deeper Graph Neural Networks using Stochastic Gradient Descent (SGD).\n",
    "\n",
    "As a first step, *Cluster-GCN* splits a given graph into `k` non-overlapping subgraphs, i.e., no two subgraphs share a node. In [1], it is suggested that for best classification performance, the *METIS* graph clustering algorithm, [3], should be utilised; *METIS* groups together nodes that form a well connected neighborhood with few connections to other subgraphs. The default clustering algorithm `StellarGraph` uses is the random assignment of nodes to clusters. The user is free to use any suitable clustering algorithm to determine the clusters before training the *Cluster-GCN* model. \n",
    "\n",
    "This notebook demonstrates how to use either random clustering or METIS. For the latter, it is necessary that 3rd party software has correctly been installed; later, we provide links to websites that host the software and provide detailed installation instructions. \n",
    "\n",
    "During model training, each subgraph or combination of subgraphs is treated as a mini-batch for estimating the parameters of a *GCN* model. A pass over all subgraphs is considered a training epoch.\n",
    "\n",
    "*Cluster-GCN* further extends *GCN* from the transductive to the inductive setting but this is not demonstrated in this notebook.\n",
    "\n",
    "This notebook demonstrates *Cluster-GCN* for node classification using 2 citation network datasets, `Cora` and `PubMed-Diabetes`.\n",
    "\n",
    "**References**\n",
    "\n",
    "[1] Cluster-GCN: An Efficient Algorithm for Training Deep and Large Graph Convolutional Networks. W. Chiang, X. Liu, S. Si, Y. Li, S. Bengio, and C. Hsiej, KDD, 2019, arXiv:1905.07953 ([download link](https://arxiv.org/abs/1905.07953))\n",
    "\n",
    "[2] Semi-Supervised Classification with Graph Convolutional Networks. T. Kipf, M. Welling. ICLR 2017. arXiv:1609.02907 ([download link](https://arxiv.org/abs/1609.02907))\n",
    "\n",
    "[3] METIS: Serial Graph Partitioning and Fill-reducing Matrix Ordering. ([download link](http://glaros.dtc.umn.edu/gkhome/views/metis))"
   ]
  },
  {
   "cell_type": "code",
   "execution_count": 1,
   "metadata": {
    "scrolled": true
   },
   "outputs": [],
   "source": [
    "import networkx as nx\n",
    "import pandas as pd\n",
    "import itertools\n",
    "import json\n",
    "import os\n",
    "\n",
    "import numpy as np\n",
    "\n",
    "from networkx.readwrite import json_graph\n",
    "\n",
    "from sklearn.preprocessing import StandardScaler\n",
    "\n",
    "import stellargraph as sg\n",
    "from stellargraph.mapper import ClusterNodeGenerator\n",
    "from stellargraph.layer import ClusterGCN\n",
    "from stellargraph import globalvar\n",
    "\n",
    "from tensorflow.keras import backend as K\n",
    "\n",
    "from tensorflow.keras import layers, optimizers, losses, metrics, Model\n",
    "from sklearn import preprocessing, feature_extraction, model_selection\n",
    "from stellargraph import datasets\n",
    "from IPython.display import display, HTML\n",
    "from IPython.display import display, HTML\n",
    "import matplotlib.pyplot as plt\n",
    "%matplotlib inline\n",
    "\n",
    "import warnings\n",
    "from scipy.sparse import SparseEfficiencyWarning\n",
    "\n",
    "warnings.simplefilter(\"ignore\", SparseEfficiencyWarning)"
   ]
  },
  {
   "cell_type": "code",
   "execution_count": 2,
   "metadata": {},
   "outputs": [],
   "source": [
    "def load_cora(data_dir, largest_cc=False):\n",
    "    g_nx = nx.read_edgelist(path=os.path.expanduser(os.path.join(data_dir, \"cora.cites\")))\n",
    "\n",
    "    for edge in g_nx.edges(data=True):\n",
    "        edge[2][\"label\"] = \"cites\"\n",
    "\n",
    "    # load the node attribute data\n",
    "    cora_data_location = os.path.expanduser(os.path.join(data_dir, \"cora.content\"))\n",
    "    node_attr = pd.read_csv(cora_data_location, sep=\"\\t\", header=None)\n",
    "    values = {str(row.tolist()[0]): row.tolist()[-1] for _, row in node_attr.iterrows()}\n",
    "    nx.set_node_attributes(g_nx, values, \"subject\")\n",
    "\n",
    "    if largest_cc:\n",
    "        # Select the largest connected component. For clarity we ignore isolated\n",
    "        # nodes and subgraphs; having these in the data does not prevent the\n",
    "        # algorithm from running and producing valid results.\n",
    "        g_nx_ccs = (g_nx.subgraph(c).copy() for c in nx.connected_components(g_nx))\n",
    "        g_nx = max(g_nx_ccs, key=len)\n",
    "        print(\n",
    "            \"Largest subgraph statistics: {} nodes, {} edges\".format(\n",
    "                g_nx.number_of_nodes(), g_nx.number_of_edges()\n",
    "            )\n",
    "        )\n",
    "\n",
    "    feature_names = [\"w_{}\".format(ii) for ii in range(1433)]\n",
    "    column_names = feature_names + [\"subject\"]\n",
    "    node_data = pd.read_csv(\n",
    "        os.path.join(data_dir, \"cora.content\"), sep=\"\\t\", header=None, names=column_names\n",
    "    )\n",
    "\n",
    "    node_data.index = node_data.index.map(str)\n",
    "    node_data = node_data[node_data.index.isin(list(g_nx.nodes()))]\n",
    "\n",
    "    for nid in node_data.index:\n",
    "        g_nx.nodes[nid][globalvar.TYPE_ATTR_NAME] = \"paper\"  # specify node type\n",
    "\n",
    "    return g_nx, node_data, feature_names"
   ]
  },
  {
   "cell_type": "code",
   "execution_count": 3,
   "metadata": {},
   "outputs": [],
   "source": [
    "def load_pubmed(data_dir):\n",
    "    edgelist = pd.read_csv(\n",
    "        os.path.join(data_dir, \"Pubmed-Diabetes.DIRECTED.cites.tab\"),\n",
    "        sep=\"\\t\",\n",
    "        skiprows=2,\n",
    "        header=None,\n",
    "    )\n",
    "    edgelist.drop(columns=[0, 2], inplace=True)\n",
    "    edgelist.columns = [\"source\", \"target\"]\n",
    "    # delete unneccessary prefix\n",
    "    edgelist[\"source\"] = edgelist[\"source\"].map(lambda x: x.lstrip(\"paper:\"))\n",
    "    edgelist[\"target\"] = edgelist[\"target\"].map(lambda x: x.lstrip(\"paper:\"))\n",
    "    edgelist[\"label\"] = \"cites\"  # set the edge type\n",
    "\n",
    "    # Load the graph from the edgelist\n",
    "    g_nx = nx.from_pandas_edgelist(edgelist, edge_attr=\"label\")\n",
    "\n",
    "    # Load the features and subject for each node in the graph\n",
    "    nodes_as_dict = []\n",
    "    with open(\n",
    "        os.path.join(os.path.expanduser(data_dir), \"Pubmed-Diabetes.NODE.paper.tab\")\n",
    "    ) as fp:\n",
    "        for line in itertools.islice(fp, 2, None):\n",
    "            line_res = line.split(\"\\t\")\n",
    "            pid = line_res[0]\n",
    "            feat_name = [\"pid\"] + [l.split(\"=\")[0] for l in line_res[1:]][\n",
    "                :-1\n",
    "            ]  # delete summary\n",
    "            feat_value = [l.split(\"=\")[1] for l in line_res[1:]][:-1]  # delete summary\n",
    "            feat_value = [pid] + [\n",
    "                float(x) for x in feat_value\n",
    "            ]  # change to numeric from str\n",
    "            row = dict(zip(feat_name, feat_value))\n",
    "            nodes_as_dict.append(row)\n",
    "\n",
    "    # Create a Pandas dataframe holding the node data\n",
    "    node_data = pd.DataFrame(nodes_as_dict)\n",
    "    node_data.fillna(0, inplace=True)\n",
    "    node_data[\"label\"] = node_data[\"label\"].astype(int)\n",
    "    node_data[\"label\"] = node_data[\"label\"].astype(str)\n",
    "\n",
    "    node_data.index = node_data[\"pid\"]\n",
    "    node_data.drop(columns=[\"pid\"], inplace=True)\n",
    "    node_data.head()\n",
    "\n",
    "    for nid in node_data.index:\n",
    "        g_nx.nodes[nid][globalvar.TYPE_ATTR_NAME] = \"paper\"  # specify node type\n",
    "\n",
    "    feature_names = list(node_data.columns)\n",
    "    feature_names.remove(\"label\")\n",
    "\n",
    "    return g_nx, node_data, feature_names"
   ]
  },
  {
   "cell_type": "markdown",
   "metadata": {},
   "source": [
    "### Loading the dataset\n",
    "\n",
    "This notebook demonstrates node classification using the *Cluster-GCN* algorithm using one of two citation networks, `Cora` and `Pubmed`."
   ]
  },
  {
   "cell_type": "code",
   "execution_count": 4,
   "metadata": {},
   "outputs": [
    {
     "data": {
      "text/html": [
       "The Cora dataset consists of 2708 scientific publications classified into one of seven classes. The citation network consists of 5429 links. Each publication in the dataset is described by a 0/1-valued word vector indicating the absence/presence of the corresponding word from the dictionary. The dictionary consists of 1433 unique words."
      ],
      "text/plain": [
       "<IPython.core.display.HTML object>"
      ]
     },
     "metadata": {},
     "output_type": "display_data"
    },
    {
     "data": {
      "text/html": [
       "The PubMed Diabetes dataset consists of 19717 scientific publications from PubMed database pertaining to diabetes classified into one of three classes. The citation network consists of 44338 links. Each publication in the dataset is described by a TF/IDF weighted word vector from a dictionary which consists of 500 unique words."
      ],
      "text/plain": [
       "<IPython.core.display.HTML object>"
      ]
     },
     "metadata": {},
     "output_type": "display_data"
    }
   ],
   "source": [
    "display(HTML(datasets.Cora().description))\n",
    "display(HTML(datasets.PubMedDiabetes().description))"
   ]
  },
  {
   "cell_type": "code",
   "execution_count": 5,
   "metadata": {},
   "outputs": [],
   "source": [
    "dataset = \"cora\"  # can also select 'pubmed'\n",
    "\n",
    "if dataset == \"cora\":\n",
    "    example_dataset = datasets.Cora()\n",
    "    example_dataset.download()\n",
    "    Gnx, node_data, feature_names = load_cora(example_dataset.data_directory)\n",
    "elif dataset == \"pubmed\":\n",
    "    example_dataset = datasets.PubMedDiabetes()\n",
    "    example_dataset.download()\n",
    "    Gnx, node_data, feature_names = load_pubmed(example_dataset.data_directory)"
   ]
  },
  {
   "cell_type": "code",
   "execution_count": 6,
   "metadata": {},
   "outputs": [
    {
     "data": {
      "text/plain": [
       "(2708, 5278)"
      ]
     },
     "execution_count": 6,
     "metadata": {},
     "output_type": "execute_result"
    }
   ],
   "source": [
    "Gnx.number_of_nodes(), Gnx.number_of_edges()"
   ]
  },
  {
   "cell_type": "code",
   "execution_count": 7,
   "metadata": {},
   "outputs": [],
   "source": [
    "if dataset == \"cora\":\n",
    "    node_label = \"subject\"\n",
    "elif dataset == \"pubmed\":\n",
    "    node_label = \"label\""
   ]
  },
  {
   "cell_type": "code",
   "execution_count": 8,
   "metadata": {},
   "outputs": [
    {
     "data": {
      "text/plain": [
       "{'Case_Based',\n",
       " 'Genetic_Algorithms',\n",
       " 'Neural_Networks',\n",
       " 'Probabilistic_Methods',\n",
       " 'Reinforcement_Learning',\n",
       " 'Rule_Learning',\n",
       " 'Theory'}"
      ]
     },
     "execution_count": 8,
     "metadata": {},
     "output_type": "execute_result"
    }
   ],
   "source": [
    "set(node_data[node_label])"
   ]
  },
  {
   "cell_type": "markdown",
   "metadata": {},
   "source": [
    "### Splitting the data"
   ]
  },
  {
   "cell_type": "markdown",
   "metadata": {},
   "source": [
    "We aim to train a graph-ML model that will predict the **subject** or **label** (depending on the dataset) attribute on the nodes."
   ]
  },
  {
   "cell_type": "markdown",
   "metadata": {},
   "source": [
    "For machine learning we want to take a subset of the nodes for training, and use the rest for validation and testing. We'll use scikit-learn again to do this.\n",
    "\n",
    "The number of labeled nodes we use for training depends on the dataset. We use 140 labeled nodes for `Cora` and 60 for `Pubmed` training. The validation and test sets have the same sizes for both datasets. We use 500 nodes for validation and the rest for testing."
   ]
  },
  {
   "cell_type": "code",
   "execution_count": 9,
   "metadata": {},
   "outputs": [],
   "source": [
    "if dataset == \"cora\":\n",
    "    train_size = 140\n",
    "elif dataset == \"pubmed\":\n",
    "    train_size = 60\n",
    "\n",
    "train_data, test_data = model_selection.train_test_split(\n",
    "    node_data, train_size=train_size, test_size=None, stratify=node_data[node_label]\n",
    ")\n",
    "val_data, test_data = model_selection.train_test_split(\n",
    "    test_data, train_size=500, test_size=None, stratify=test_data[node_label]\n",
    ")"
   ]
  },
  {
   "cell_type": "markdown",
   "metadata": {},
   "source": [
    "Note using stratified sampling gives the following counts:"
   ]
  },
  {
   "cell_type": "code",
   "execution_count": 10,
   "metadata": {},
   "outputs": [
    {
     "data": {
      "text/plain": [
       "Counter({'Probabilistic_Methods': 22,\n",
       "         'Neural_Networks': 42,\n",
       "         'Rule_Learning': 9,\n",
       "         'Genetic_Algorithms': 22,\n",
       "         'Theory': 18,\n",
       "         'Case_Based': 16,\n",
       "         'Reinforcement_Learning': 11})"
      ]
     },
     "execution_count": 10,
     "metadata": {},
     "output_type": "execute_result"
    }
   ],
   "source": [
    "from collections import Counter\n",
    "\n",
    "Counter(train_data[node_label])"
   ]
  },
  {
   "cell_type": "markdown",
   "metadata": {},
   "source": [
    "The training set has class imbalance that might need to be compensated, e.g., via using a weighted cross-entropy loss in model training, with class weights inversely proportional to class support. However, we will ignore the class imbalance in this example, for simplicity."
   ]
  },
  {
   "cell_type": "markdown",
   "metadata": {},
   "source": [
    "### Converting to numeric arrays"
   ]
  },
  {
   "cell_type": "markdown",
   "metadata": {},
   "source": [
    "For our categorical target, we will use one-hot vectors that will be fed into a soft-max Keras layer during training."
   ]
  },
  {
   "cell_type": "code",
   "execution_count": 11,
   "metadata": {},
   "outputs": [],
   "source": [
    "target_encoding = feature_extraction.DictVectorizer(sparse=False)\n",
    "\n",
    "train_targets = target_encoding.fit_transform(train_data[[node_label]].to_dict(\"records\"))\n",
    "val_targets = target_encoding.transform(val_data[[node_label]].to_dict(\"records\"))\n",
    "test_targets = target_encoding.transform(test_data[[node_label]].to_dict(\"records\"))"
   ]
  },
  {
   "cell_type": "markdown",
   "metadata": {},
   "source": [
    "Next, we prepare a Pandas DataFrame holding the node attributes we want to use to predict the subject. These are the feature vectors that the Keras model will use as input. `Cora` contains attributes 'w_x' that correspond to words found in that publication. If a word occurs more than once in a publication the relevant attribute will be set to one, otherwise it will be zero. `Pubmed` has similar feature vectors associated with each node but the values are [tf-idf.](https://en.wikipedia.org/wiki/Tf%E2%80%93idf)"
   ]
  },
  {
   "cell_type": "code",
   "execution_count": 12,
   "metadata": {},
   "outputs": [],
   "source": [
    "node_features = node_data[feature_names]"
   ]
  },
  {
   "cell_type": "code",
   "execution_count": 13,
   "metadata": {},
   "outputs": [
    {
     "data": {
      "text/html": [
       "<div>\n",
       "<style scoped>\n",
       "    .dataframe tbody tr th:only-of-type {\n",
       "        vertical-align: middle;\n",
       "    }\n",
       "\n",
       "    .dataframe tbody tr th {\n",
       "        vertical-align: top;\n",
       "    }\n",
       "\n",
       "    .dataframe thead th {\n",
       "        text-align: right;\n",
       "    }\n",
       "</style>\n",
       "<table border=\"1\" class=\"dataframe\">\n",
       "  <thead>\n",
       "    <tr style=\"text-align: right;\">\n",
       "      <th></th>\n",
       "      <th>w_0</th>\n",
       "      <th>w_1</th>\n",
       "      <th>w_2</th>\n",
       "      <th>w_3</th>\n",
       "      <th>w_4</th>\n",
       "      <th>w_5</th>\n",
       "      <th>w_6</th>\n",
       "      <th>w_7</th>\n",
       "      <th>w_8</th>\n",
       "      <th>w_9</th>\n",
       "      <th>...</th>\n",
       "      <th>w_1423</th>\n",
       "      <th>w_1424</th>\n",
       "      <th>w_1425</th>\n",
       "      <th>w_1426</th>\n",
       "      <th>w_1427</th>\n",
       "      <th>w_1428</th>\n",
       "      <th>w_1429</th>\n",
       "      <th>w_1430</th>\n",
       "      <th>w_1431</th>\n",
       "      <th>w_1432</th>\n",
       "    </tr>\n",
       "  </thead>\n",
       "  <tbody>\n",
       "    <tr>\n",
       "      <th>31336</th>\n",
       "      <td>0</td>\n",
       "      <td>0</td>\n",
       "      <td>0</td>\n",
       "      <td>0</td>\n",
       "      <td>0</td>\n",
       "      <td>0</td>\n",
       "      <td>0</td>\n",
       "      <td>0</td>\n",
       "      <td>0</td>\n",
       "      <td>0</td>\n",
       "      <td>...</td>\n",
       "      <td>0</td>\n",
       "      <td>0</td>\n",
       "      <td>0</td>\n",
       "      <td>1</td>\n",
       "      <td>0</td>\n",
       "      <td>0</td>\n",
       "      <td>0</td>\n",
       "      <td>0</td>\n",
       "      <td>0</td>\n",
       "      <td>0</td>\n",
       "    </tr>\n",
       "    <tr>\n",
       "      <th>1061127</th>\n",
       "      <td>0</td>\n",
       "      <td>0</td>\n",
       "      <td>0</td>\n",
       "      <td>0</td>\n",
       "      <td>0</td>\n",
       "      <td>0</td>\n",
       "      <td>0</td>\n",
       "      <td>0</td>\n",
       "      <td>0</td>\n",
       "      <td>0</td>\n",
       "      <td>...</td>\n",
       "      <td>0</td>\n",
       "      <td>0</td>\n",
       "      <td>1</td>\n",
       "      <td>0</td>\n",
       "      <td>0</td>\n",
       "      <td>0</td>\n",
       "      <td>0</td>\n",
       "      <td>0</td>\n",
       "      <td>0</td>\n",
       "      <td>0</td>\n",
       "    </tr>\n",
       "    <tr>\n",
       "      <th>1106406</th>\n",
       "      <td>0</td>\n",
       "      <td>0</td>\n",
       "      <td>0</td>\n",
       "      <td>0</td>\n",
       "      <td>0</td>\n",
       "      <td>0</td>\n",
       "      <td>0</td>\n",
       "      <td>0</td>\n",
       "      <td>0</td>\n",
       "      <td>0</td>\n",
       "      <td>...</td>\n",
       "      <td>0</td>\n",
       "      <td>0</td>\n",
       "      <td>0</td>\n",
       "      <td>0</td>\n",
       "      <td>0</td>\n",
       "      <td>0</td>\n",
       "      <td>0</td>\n",
       "      <td>0</td>\n",
       "      <td>0</td>\n",
       "      <td>0</td>\n",
       "    </tr>\n",
       "    <tr>\n",
       "      <th>13195</th>\n",
       "      <td>0</td>\n",
       "      <td>0</td>\n",
       "      <td>0</td>\n",
       "      <td>0</td>\n",
       "      <td>0</td>\n",
       "      <td>0</td>\n",
       "      <td>0</td>\n",
       "      <td>0</td>\n",
       "      <td>0</td>\n",
       "      <td>0</td>\n",
       "      <td>...</td>\n",
       "      <td>0</td>\n",
       "      <td>0</td>\n",
       "      <td>0</td>\n",
       "      <td>0</td>\n",
       "      <td>0</td>\n",
       "      <td>0</td>\n",
       "      <td>0</td>\n",
       "      <td>0</td>\n",
       "      <td>0</td>\n",
       "      <td>0</td>\n",
       "    </tr>\n",
       "    <tr>\n",
       "      <th>37879</th>\n",
       "      <td>0</td>\n",
       "      <td>0</td>\n",
       "      <td>0</td>\n",
       "      <td>0</td>\n",
       "      <td>0</td>\n",
       "      <td>0</td>\n",
       "      <td>0</td>\n",
       "      <td>0</td>\n",
       "      <td>0</td>\n",
       "      <td>0</td>\n",
       "      <td>...</td>\n",
       "      <td>0</td>\n",
       "      <td>0</td>\n",
       "      <td>0</td>\n",
       "      <td>0</td>\n",
       "      <td>0</td>\n",
       "      <td>0</td>\n",
       "      <td>0</td>\n",
       "      <td>0</td>\n",
       "      <td>0</td>\n",
       "      <td>0</td>\n",
       "    </tr>\n",
       "    <tr>\n",
       "      <th>1126012</th>\n",
       "      <td>0</td>\n",
       "      <td>0</td>\n",
       "      <td>0</td>\n",
       "      <td>0</td>\n",
       "      <td>0</td>\n",
       "      <td>0</td>\n",
       "      <td>0</td>\n",
       "      <td>0</td>\n",
       "      <td>0</td>\n",
       "      <td>0</td>\n",
       "      <td>...</td>\n",
       "      <td>0</td>\n",
       "      <td>0</td>\n",
       "      <td>0</td>\n",
       "      <td>1</td>\n",
       "      <td>0</td>\n",
       "      <td>0</td>\n",
       "      <td>0</td>\n",
       "      <td>0</td>\n",
       "      <td>0</td>\n",
       "      <td>0</td>\n",
       "    </tr>\n",
       "    <tr>\n",
       "      <th>1107140</th>\n",
       "      <td>0</td>\n",
       "      <td>0</td>\n",
       "      <td>0</td>\n",
       "      <td>0</td>\n",
       "      <td>0</td>\n",
       "      <td>0</td>\n",
       "      <td>0</td>\n",
       "      <td>0</td>\n",
       "      <td>0</td>\n",
       "      <td>0</td>\n",
       "      <td>...</td>\n",
       "      <td>0</td>\n",
       "      <td>0</td>\n",
       "      <td>0</td>\n",
       "      <td>0</td>\n",
       "      <td>0</td>\n",
       "      <td>0</td>\n",
       "      <td>0</td>\n",
       "      <td>0</td>\n",
       "      <td>0</td>\n",
       "      <td>0</td>\n",
       "    </tr>\n",
       "    <tr>\n",
       "      <th>1102850</th>\n",
       "      <td>0</td>\n",
       "      <td>0</td>\n",
       "      <td>0</td>\n",
       "      <td>1</td>\n",
       "      <td>0</td>\n",
       "      <td>0</td>\n",
       "      <td>0</td>\n",
       "      <td>0</td>\n",
       "      <td>0</td>\n",
       "      <td>0</td>\n",
       "      <td>...</td>\n",
       "      <td>0</td>\n",
       "      <td>0</td>\n",
       "      <td>0</td>\n",
       "      <td>0</td>\n",
       "      <td>0</td>\n",
       "      <td>0</td>\n",
       "      <td>0</td>\n",
       "      <td>0</td>\n",
       "      <td>0</td>\n",
       "      <td>0</td>\n",
       "    </tr>\n",
       "    <tr>\n",
       "      <th>31349</th>\n",
       "      <td>0</td>\n",
       "      <td>0</td>\n",
       "      <td>0</td>\n",
       "      <td>0</td>\n",
       "      <td>0</td>\n",
       "      <td>0</td>\n",
       "      <td>0</td>\n",
       "      <td>0</td>\n",
       "      <td>0</td>\n",
       "      <td>0</td>\n",
       "      <td>...</td>\n",
       "      <td>0</td>\n",
       "      <td>0</td>\n",
       "      <td>0</td>\n",
       "      <td>0</td>\n",
       "      <td>0</td>\n",
       "      <td>0</td>\n",
       "      <td>0</td>\n",
       "      <td>0</td>\n",
       "      <td>0</td>\n",
       "      <td>0</td>\n",
       "    </tr>\n",
       "    <tr>\n",
       "      <th>1106418</th>\n",
       "      <td>0</td>\n",
       "      <td>0</td>\n",
       "      <td>0</td>\n",
       "      <td>0</td>\n",
       "      <td>0</td>\n",
       "      <td>0</td>\n",
       "      <td>0</td>\n",
       "      <td>0</td>\n",
       "      <td>0</td>\n",
       "      <td>0</td>\n",
       "      <td>...</td>\n",
       "      <td>0</td>\n",
       "      <td>0</td>\n",
       "      <td>0</td>\n",
       "      <td>0</td>\n",
       "      <td>0</td>\n",
       "      <td>0</td>\n",
       "      <td>0</td>\n",
       "      <td>0</td>\n",
       "      <td>0</td>\n",
       "      <td>0</td>\n",
       "    </tr>\n",
       "  </tbody>\n",
       "</table>\n",
       "<p>10 rows × 1433 columns</p>\n",
       "</div>"
      ],
      "text/plain": [
       "         w_0  w_1  w_2  w_3  w_4  w_5  w_6  w_7  w_8  w_9  ...  w_1423  \\\n",
       "31336      0    0    0    0    0    0    0    0    0    0  ...       0   \n",
       "1061127    0    0    0    0    0    0    0    0    0    0  ...       0   \n",
       "1106406    0    0    0    0    0    0    0    0    0    0  ...       0   \n",
       "13195      0    0    0    0    0    0    0    0    0    0  ...       0   \n",
       "37879      0    0    0    0    0    0    0    0    0    0  ...       0   \n",
       "1126012    0    0    0    0    0    0    0    0    0    0  ...       0   \n",
       "1107140    0    0    0    0    0    0    0    0    0    0  ...       0   \n",
       "1102850    0    0    0    1    0    0    0    0    0    0  ...       0   \n",
       "31349      0    0    0    0    0    0    0    0    0    0  ...       0   \n",
       "1106418    0    0    0    0    0    0    0    0    0    0  ...       0   \n",
       "\n",
       "         w_1424  w_1425  w_1426  w_1427  w_1428  w_1429  w_1430  w_1431  \\\n",
       "31336         0       0       1       0       0       0       0       0   \n",
       "1061127       0       1       0       0       0       0       0       0   \n",
       "1106406       0       0       0       0       0       0       0       0   \n",
       "13195         0       0       0       0       0       0       0       0   \n",
       "37879         0       0       0       0       0       0       0       0   \n",
       "1126012       0       0       1       0       0       0       0       0   \n",
       "1107140       0       0       0       0       0       0       0       0   \n",
       "1102850       0       0       0       0       0       0       0       0   \n",
       "31349         0       0       0       0       0       0       0       0   \n",
       "1106418       0       0       0       0       0       0       0       0   \n",
       "\n",
       "         w_1432  \n",
       "31336         0  \n",
       "1061127       0  \n",
       "1106406       0  \n",
       "13195         0  \n",
       "37879         0  \n",
       "1126012       0  \n",
       "1107140       0  \n",
       "1102850       0  \n",
       "31349         0  \n",
       "1106418       0  \n",
       "\n",
       "[10 rows x 1433 columns]"
      ]
     },
     "execution_count": 13,
     "metadata": {},
     "output_type": "execute_result"
    }
   ],
   "source": [
    "# Let's have a look at the first 10 rows of the node features dataframe.\n",
    "node_features.head(10)"
   ]
  },
  {
   "cell_type": "markdown",
   "metadata": {},
   "source": [
    "## Train using cluster GCN"
   ]
  },
  {
   "cell_type": "markdown",
   "metadata": {},
   "source": [
    "Now create a `StellarGraph` object from the `NetworkX` graph and the node features and targets. It is the `StellarGraph` object that we use in this library to perform machine learning tasks on."
   ]
  },
  {
   "cell_type": "code",
   "execution_count": 14,
   "metadata": {},
   "outputs": [],
   "source": [
    "G = sg.StellarGraph(Gnx, node_features=node_features)"
   ]
  },
  {
   "cell_type": "code",
   "execution_count": 15,
   "metadata": {},
   "outputs": [
    {
     "name": "stdout",
     "output_type": "stream",
     "text": [
      "StellarGraph: Undirected multigraph\n",
      " Nodes: 2708, Edges: 5278\n",
      "\n",
      " Node types:\n",
      "  paper: [2708]\n",
      "    Features: float32 vector, length 1433\n",
      "    Edge types: paper-cites->paper\n",
      "\n",
      " Edge types:\n",
      "    paper-cites->paper: [5278]\n"
     ]
    }
   ],
   "source": [
    "print(G.info())"
   ]
  },
  {
   "cell_type": "markdown",
   "metadata": {},
   "source": [
    "### Graph Clustering \n",
    "\n",
    "*Cluster-GCN* requires that a graph is clustered into `k` non-overlapping subgraphs. These subgraphs are used as batches to train a *GCN* model. \n",
    "\n",
    "Any graph clustering method can be used, including random clustering that is the default clustering method in `StellarGraph`. \n",
    "\n",
    "However, the choice of clustering algorithm can have a large impact on performance. In the *Cluster-GCN* paper, [1], it is suggested that the *METIS* algorithm is used as it produces subgraphs that are well connected with few intra-graph edges. \n",
    "\n",
    "This demo uses random clustering by default. \n",
    "\n",
    "#### METIS\n",
    "\n",
    "In order to use *METIS*, you must download and install the official implemention from [here](http://glaros.dtc.umn.edu/gkhome/views/metis). Also, you must install the Python `metis` library by following the instructions [here.](https://metis.readthedocs.io/en/latest/)"
   ]
  },
  {
   "cell_type": "code",
   "execution_count": 16,
   "metadata": {},
   "outputs": [],
   "source": [
    "number_of_clusters = 10  # the number of clusters/subgraphs\n",
    "clusters_per_batch = 2  # combine two cluster per batch\n",
    "random_clusters = True  # Set to False if you want to use METIS for clustering"
   ]
  },
  {
   "cell_type": "code",
   "execution_count": 17,
   "metadata": {},
   "outputs": [],
   "source": [
    "node_ids = np.array(G.nodes())"
   ]
  },
  {
   "cell_type": "code",
   "execution_count": 18,
   "metadata": {},
   "outputs": [],
   "source": [
    "if random_clusters:\n",
    "    # We don't have to specify the cluster because the CluserNodeGenerator will take\n",
    "    # care of the random clustering for us.\n",
    "    clusters = number_of_clusters\n",
    "else:\n",
    "    import metis\n",
    "\n",
    "    # We are going to use the METIS clustering algorith,\n",
    "    print(\"Graph clustering using the METIS algorithm.\")\n",
    "    edgecuts, parts = metis.part_graph(G, number_of_clusters)\n",
    "    parts = np.array(parts)\n",
    "    clusters = []\n",
    "    cluster_ids = np.unique(parts)\n",
    "    for cluster_id in cluster_ids:\n",
    "        mask = np.where(parts == cluster_id)\n",
    "        clusters.append(node_ids[mask])"
   ]
  },
  {
   "cell_type": "markdown",
   "metadata": {},
   "source": [
    "Next we create the `ClusterNodeGenerator` object that will give us access to a generator suitable for model training, evaluation, and prediction via the Keras API. \n",
    "\n",
    "We specify the number of clusters and the number of clusters to combine per batch, **q**."
   ]
  },
  {
   "cell_type": "code",
   "execution_count": 19,
   "metadata": {},
   "outputs": [
    {
     "name": "stdout",
     "output_type": "stream",
     "text": [
      "Number of clusters 10\n",
      "0 cluster has size 270\n",
      "1 cluster has size 270\n",
      "2 cluster has size 270\n",
      "3 cluster has size 270\n",
      "4 cluster has size 270\n",
      "5 cluster has size 270\n",
      "6 cluster has size 270\n",
      "7 cluster has size 270\n",
      "8 cluster has size 270\n",
      "9 cluster has size 278\n"
     ]
    }
   ],
   "source": [
    "generator = ClusterNodeGenerator(G, clusters=clusters, q=clusters_per_batch, lam=0.1)"
   ]
  },
  {
   "cell_type": "markdown",
   "metadata": {},
   "source": [
    "Now we can specify our machine learning model, we need a few more parameters for this:\n",
    "\n",
    " * the `layer_sizes` is a list of hidden feature sizes of each layer in the model. In this example we use two GCN layers with 32-dimensional hidden node features at each layer.\n",
    " * `activations` is a list of activations applied to each layer's output\n",
    " * `dropout=0.5` specifies a 50% dropout at each layer. "
   ]
  },
  {
   "cell_type": "markdown",
   "metadata": {},
   "source": [
    "We create the *Cluster-GCN* model as follows:"
   ]
  },
  {
   "cell_type": "code",
   "execution_count": 20,
   "metadata": {
    "scrolled": true
   },
   "outputs": [],
   "source": [
    "cluster_gcn = ClusterGCN(\n",
    "    layer_sizes=[32, 32], activations=[\"relu\", \"relu\"], generator=generator, dropout=0.5\n",
    ")"
   ]
  },
  {
   "cell_type": "markdown",
   "metadata": {},
   "source": [
    "To create a Keras model we now expose the input and output tensors of the *Cluster-GCN* model for node prediction, via the `ClusterGCN.build` method:"
   ]
  },
  {
   "cell_type": "code",
   "execution_count": 21,
   "metadata": {},
   "outputs": [],
   "source": [
    "x_inp, x_out = cluster_gcn.build()"
   ]
  },
  {
   "cell_type": "code",
   "execution_count": 22,
   "metadata": {},
   "outputs": [
    {
     "data": {
      "text/plain": [
       "[<tf.Tensor 'input_1:0' shape=(1, None, 1433) dtype=float32>,\n",
       " <tf.Tensor 'input_2:0' shape=(1, None, None) dtype=int32>,\n",
       " <tf.Tensor 'input_3:0' shape=(1, None, None) dtype=float32>]"
      ]
     },
     "execution_count": 22,
     "metadata": {},
     "output_type": "execute_result"
    }
   ],
   "source": [
    "x_inp"
   ]
  },
  {
   "cell_type": "code",
   "execution_count": 23,
   "metadata": {},
   "outputs": [
    {
     "data": {
      "text/plain": [
       "<tf.Tensor 'cluster_graph_convolution_1/Identity:0' shape=(None, None, 32) dtype=float32>"
      ]
     },
     "execution_count": 23,
     "metadata": {},
     "output_type": "execute_result"
    }
   ],
   "source": [
    "x_out"
   ]
  },
  {
   "cell_type": "markdown",
   "metadata": {},
   "source": [
    "We are also going to add a final layer dense layer with softmax output activation. This layers performs classification so we set the number of units to equal the number of classes."
   ]
  },
  {
   "cell_type": "code",
   "execution_count": 24,
   "metadata": {},
   "outputs": [],
   "source": [
    "predictions = layers.Dense(units=train_targets.shape[1], activation=\"softmax\")(x_out)"
   ]
  },
  {
   "cell_type": "code",
   "execution_count": 25,
   "metadata": {},
   "outputs": [
    {
     "data": {
      "text/plain": [
       "<tf.Tensor 'dense/Identity:0' shape=(None, None, 7) dtype=float32>"
      ]
     },
     "execution_count": 25,
     "metadata": {},
     "output_type": "execute_result"
    }
   ],
   "source": [
    "predictions"
   ]
  },
  {
   "cell_type": "markdown",
   "metadata": {},
   "source": [
    "Finally, we build the Tensorflow model and compile it specifying the loss function, optimiser, and metrics to monitor."
   ]
  },
  {
   "cell_type": "code",
   "execution_count": 26,
   "metadata": {},
   "outputs": [],
   "source": [
    "model = Model(inputs=x_inp, outputs=predictions)\n",
    "model.compile(\n",
    "    optimizer=optimizers.Adam(lr=0.01),\n",
    "    loss=losses.categorical_crossentropy,\n",
    "    metrics=[\"acc\"],\n",
    ")"
   ]
  },
  {
   "cell_type": "markdown",
   "metadata": {},
   "source": [
    "### Train the model"
   ]
  },
  {
   "cell_type": "markdown",
   "metadata": {},
   "source": [
    "We are now ready to train the `ClusterGCN` model, keeping track of its loss and accuracy on the training set, and its generalisation performance on a validation set."
   ]
  },
  {
   "cell_type": "markdown",
   "metadata": {},
   "source": [
    "We need two generators, one for training and one for validation data. We can create such generators by calling the `flow` method of the `ClusterNodeGenerator` object we created earlier and specifying the node IDs and corresponding ground truth target values for each of the two datasets. "
   ]
  },
  {
   "cell_type": "code",
   "execution_count": 27,
   "metadata": {},
   "outputs": [],
   "source": [
    "train_gen = generator.flow(train_data.index, train_targets, name=\"train\")\n",
    "val_gen = generator.flow(val_data.index, val_targets, name=\"val\")"
   ]
  },
  {
   "cell_type": "markdown",
   "metadata": {},
   "source": [
    "Finally, we are ready to train our `ClusterGCN` model by calling the `fit_generator` method of our Tensorflow Keras model."
   ]
  },
  {
   "cell_type": "code",
   "execution_count": 28,
   "metadata": {},
   "outputs": [
    {
     "name": "stdout",
     "output_type": "stream",
     "text": [
      "  ['...']\n",
      "  ['...']\n",
      "Train for 5 steps, validate for 5 steps\n",
      "Epoch 1/20\n",
      "5/5 [==============================] - 2s 301ms/step - loss: 1.9087 - acc: 0.2643 - val_loss: 1.8523 - val_acc: 0.3460\n",
      "Epoch 2/20\n",
      "5/5 [==============================] - 1s 207ms/step - loss: 1.7362 - acc: 0.3714 - val_loss: 1.7257 - val_acc: 0.3120\n",
      "Epoch 3/20\n",
      "5/5 [==============================] - 1s 211ms/step - loss: 1.5603 - acc: 0.3786 - val_loss: 1.6205 - val_acc: 0.3620\n",
      "Epoch 4/20\n",
      "5/5 [==============================] - 1s 209ms/step - loss: 1.3606 - acc: 0.4786 - val_loss: 1.4780 - val_acc: 0.5020\n",
      "Epoch 5/20\n",
      "5/5 [==============================] - 1s 208ms/step - loss: 1.1808 - acc: 0.5643 - val_loss: 1.3469 - val_acc: 0.5440\n",
      "Epoch 6/20\n",
      "5/5 [==============================] - 1s 213ms/step - loss: 0.9766 - acc: 0.6643 - val_loss: 1.2232 - val_acc: 0.6260\n",
      "Epoch 7/20\n",
      "5/5 [==============================] - 1s 214ms/step - loss: 0.7467 - acc: 0.7571 - val_loss: 1.1310 - val_acc: 0.6340\n",
      "Epoch 8/20\n",
      "5/5 [==============================] - 1s 213ms/step - loss: 0.7023 - acc: 0.7571 - val_loss: 1.0847 - val_acc: 0.6560\n",
      "Epoch 9/20\n",
      "5/5 [==============================] - 1s 210ms/step - loss: 0.5310 - acc: 0.8714 - val_loss: 1.0649 - val_acc: 0.6520\n",
      "Epoch 10/20\n",
      "5/5 [==============================] - 1s 212ms/step - loss: 0.4544 - acc: 0.8857 - val_loss: 1.0750 - val_acc: 0.6360\n",
      "Epoch 11/20\n",
      "5/5 [==============================] - 1s 217ms/step - loss: 0.4293 - acc: 0.8643 - val_loss: 1.1019 - val_acc: 0.6320\n",
      "Epoch 12/20\n",
      "5/5 [==============================] - 1s 213ms/step - loss: 0.2854 - acc: 0.9143 - val_loss: 1.1019 - val_acc: 0.6360\n",
      "Epoch 13/20\n",
      "5/5 [==============================] - 1s 211ms/step - loss: 0.3162 - acc: 0.8929 - val_loss: 1.1067 - val_acc: 0.6260\n",
      "Epoch 14/20\n",
      "5/5 [==============================] - 1s 213ms/step - loss: 0.2750 - acc: 0.9071 - val_loss: 1.1391 - val_acc: 0.6440\n",
      "Epoch 15/20\n",
      "5/5 [==============================] - 1s 214ms/step - loss: 0.2436 - acc: 0.9143 - val_loss: 1.1458 - val_acc: 0.6400\n",
      "Epoch 16/20\n",
      "5/5 [==============================] - 1s 228ms/step - loss: 0.2149 - acc: 0.9214 - val_loss: 1.1980 - val_acc: 0.6480\n",
      "Epoch 17/20\n",
      "5/5 [==============================] - 1s 212ms/step - loss: 0.2559 - acc: 0.9214 - val_loss: 1.2012 - val_acc: 0.6440\n",
      "Epoch 18/20\n",
      "5/5 [==============================] - 1s 218ms/step - loss: 0.1976 - acc: 0.9143 - val_loss: 1.2226 - val_acc: 0.6340\n",
      "Epoch 19/20\n",
      "5/5 [==============================] - 1s 216ms/step - loss: 0.2296 - acc: 0.9500 - val_loss: 1.2586 - val_acc: 0.6280\n",
      "Epoch 20/20\n",
      "5/5 [==============================] - 1s 212ms/step - loss: 0.2834 - acc: 0.9071 - val_loss: 1.2254 - val_acc: 0.6400\n"
     ]
    }
   ],
   "source": [
    "history = model.fit_generator(\n",
    "    train_gen, validation_data=val_gen, epochs=20, verbose=1, shuffle=False\n",
    ")"
   ]
  },
  {
   "cell_type": "markdown",
   "metadata": {},
   "source": [
    "Plot the training history:"
   ]
  },
  {
   "cell_type": "code",
   "execution_count": 29,
   "metadata": {},
   "outputs": [
    {
     "data": {
      "image/png": "[encoded data removed]",
      "text/plain": [
       "<Figure size 504x576 with 2 Axes>"
      ]
     },
     "metadata": {
      "needs_background": "light"
     },
     "output_type": "display_data"
    }
   ],
   "source": [
    "sg.utils.plot_history(history)"
   ]
  },
  {
   "cell_type": "markdown",
   "metadata": {},
   "source": [
    "Evaluate the best model on the test set.\n",
    "\n",
    "Note that *Cluster-GCN* performance can be very poor if using random graph clustering. Using *METIS* instead of random graph clustering produces considerably better results."
   ]
  },
  {
   "cell_type": "code",
   "execution_count": 30,
   "metadata": {},
   "outputs": [],
   "source": [
    "test_gen = generator.flow(test_data.index, test_targets)"
   ]
  },
  {
   "cell_type": "code",
   "execution_count": 31,
   "metadata": {},
   "outputs": [
    {
     "name": "stdout",
     "output_type": "stream",
     "text": [
      "  ['...']\n",
      "\n",
      "Test Set Metrics:\n",
      "\tloss: 1.2820\n",
      "\tacc: 0.6354\n"
     ]
    }
   ],
   "source": [
    "test_metrics = model.evaluate_generator(test_gen)\n",
    "print(\"\\nTest Set Metrics:\")\n",
    "for name, val in zip(model.metrics_names, test_metrics):\n",
    "    print(\"\\t{}: {:0.4f}\".format(name, val))"
   ]
  },
  {
   "cell_type": "markdown",
   "metadata": {},
   "source": [
    "### Making predictions with the model"
   ]
  },
  {
   "cell_type": "markdown",
   "metadata": {},
   "source": [
    "For predictions to work correctly, we need to remove the extra batch dimensions necessary for the implementation of *Cluster-GCN* to work. We can easily achieve this by adding a layer after the dense predictions layer to remove this extra dimension."
   ]
  },
  {
   "cell_type": "code",
   "execution_count": 32,
   "metadata": {},
   "outputs": [],
   "source": [
    "predictions_flat = layers.Lambda(lambda x: K.squeeze(x, 0))(predictions)"
   ]
  },
  {
   "cell_type": "code",
   "execution_count": 33,
   "metadata": {},
   "outputs": [
    {
     "data": {
      "text/plain": [
       "(<tf.Tensor 'dense/Identity:0' shape=(None, None, 7) dtype=float32>,\n",
       " <tf.Tensor 'lambda_1/Identity:0' shape=(None, 7) dtype=float32>)"
      ]
     },
     "execution_count": 33,
     "metadata": {},
     "output_type": "execute_result"
    }
   ],
   "source": [
    "# Notice that we have removed the first dimension\n",
    "predictions, predictions_flat"
   ]
  },
  {
   "cell_type": "markdown",
   "metadata": {},
   "source": [
    "Now let's get the predictions for all nodes.\n",
    "\n",
    "We need to create a new model using the same as before input Tensor and our new **predictions_flat** Tensor as the output. We are going to re-use the trained model weights."
   ]
  },
  {
   "cell_type": "code",
   "execution_count": 34,
   "metadata": {},
   "outputs": [],
   "source": [
    "model_predict = Model(inputs=x_inp, outputs=predictions_flat)"
   ]
  },
  {
   "cell_type": "code",
   "execution_count": 35,
   "metadata": {},
   "outputs": [
    {
     "name": "stdout",
     "output_type": "stream",
     "text": []
    }
   ],
   "source": [
    "all_nodes = list(node_data.index)\n",
    "all_gen = generator.flow(all_nodes, name=\"all_gen\")\n",
    "all_predictions = model_predict.predict_generator(all_gen)"
   ]
  },
  {
   "cell_type": "code",
   "execution_count": 36,
   "metadata": {},
   "outputs": [
    {
     "data": {
      "text/plain": [
       "(2708, 7)"
      ]
     },
     "execution_count": 36,
     "metadata": {},
     "output_type": "execute_result"
    }
   ],
   "source": [
    "all_predictions.shape"
   ]
  },
  {
   "cell_type": "markdown",
   "metadata": {},
   "source": [
    "These predictions will be the output of the softmax layer, so to get final categories we'll use the `inverse_transform` method of our target attribute specifcation to turn these values back to the original categories."
   ]
  },
  {
   "cell_type": "code",
   "execution_count": 37,
   "metadata": {},
   "outputs": [],
   "source": [
    "node_predictions = target_encoding.inverse_transform(all_predictions)"
   ]
  },
  {
   "cell_type": "markdown",
   "metadata": {},
   "source": [
    "Let's have a look at a few predictions after training the model:"
   ]
  },
  {
   "cell_type": "code",
   "execution_count": 38,
   "metadata": {},
   "outputs": [
    {
     "data": {
      "text/plain": [
       "2708"
      ]
     },
     "execution_count": 38,
     "metadata": {},
     "output_type": "execute_result"
    }
   ],
   "source": [
    "len(all_gen.node_order)"
   ]
  },
  {
   "cell_type": "code",
   "execution_count": 39,
   "metadata": {},
   "outputs": [
    {
     "data": {
      "text/html": [
       "<div>\n",
       "<style scoped>\n",
       "    .dataframe tbody tr th:only-of-type {\n",
       "        vertical-align: middle;\n",
       "    }\n",
       "\n",
       "    .dataframe tbody tr th {\n",
       "        vertical-align: top;\n",
       "    }\n",
       "\n",
       "    .dataframe thead th {\n",
       "        text-align: right;\n",
       "    }\n",
       "</style>\n",
       "<table border=\"1\" class=\"dataframe\">\n",
       "  <thead>\n",
       "    <tr style=\"text-align: right;\">\n",
       "      <th></th>\n",
       "      <th>Predicted</th>\n",
       "      <th>True</th>\n",
       "    </tr>\n",
       "  </thead>\n",
       "  <tbody>\n",
       "    <tr>\n",
       "      <th>1000012</th>\n",
       "      <td>subject=Rule_Learning</td>\n",
       "      <td>Rule_Learning</td>\n",
       "    </tr>\n",
       "    <tr>\n",
       "      <th>100197</th>\n",
       "      <td>subject=Neural_Networks</td>\n",
       "      <td>Neural_Networks</td>\n",
       "    </tr>\n",
       "    <tr>\n",
       "      <th>100701</th>\n",
       "      <td>subject=Case_Based</td>\n",
       "      <td>Case_Based</td>\n",
       "    </tr>\n",
       "    <tr>\n",
       "      <th>100935</th>\n",
       "      <td>subject=Genetic_Algorithms</td>\n",
       "      <td>Genetic_Algorithms</td>\n",
       "    </tr>\n",
       "    <tr>\n",
       "      <th>100961</th>\n",
       "      <td>subject=Neural_Networks</td>\n",
       "      <td>Neural_Networks</td>\n",
       "    </tr>\n",
       "    <tr>\n",
       "      <th>101143</th>\n",
       "      <td>subject=Case_Based</td>\n",
       "      <td>Case_Based</td>\n",
       "    </tr>\n",
       "    <tr>\n",
       "      <th>101145</th>\n",
       "      <td>subject=Case_Based</td>\n",
       "      <td>Case_Based</td>\n",
       "    </tr>\n",
       "    <tr>\n",
       "      <th>101261</th>\n",
       "      <td>subject=Neural_Networks</td>\n",
       "      <td>Theory</td>\n",
       "    </tr>\n",
       "    <tr>\n",
       "      <th>101263</th>\n",
       "      <td>subject=Theory</td>\n",
       "      <td>Theory</td>\n",
       "    </tr>\n",
       "    <tr>\n",
       "      <th>101660</th>\n",
       "      <td>subject=Rule_Learning</td>\n",
       "      <td>Rule_Learning</td>\n",
       "    </tr>\n",
       "  </tbody>\n",
       "</table>\n",
       "</div>"
      ],
      "text/plain": [
       "                          Predicted                True\n",
       "1000012       subject=Rule_Learning       Rule_Learning\n",
       "100197      subject=Neural_Networks     Neural_Networks\n",
       "100701           subject=Case_Based          Case_Based\n",
       "100935   subject=Genetic_Algorithms  Genetic_Algorithms\n",
       "100961      subject=Neural_Networks     Neural_Networks\n",
       "101143           subject=Case_Based          Case_Based\n",
       "101145           subject=Case_Based          Case_Based\n",
       "101261      subject=Neural_Networks              Theory\n",
       "101263               subject=Theory              Theory\n",
       "101660        subject=Rule_Learning       Rule_Learning"
      ]
     },
     "execution_count": 39,
     "metadata": {},
     "output_type": "execute_result"
    }
   ],
   "source": [
    "results = pd.DataFrame(node_predictions, index=all_gen.node_order).idxmax(axis=1)\n",
    "df = pd.DataFrame({\"Predicted\": results, \"True\": node_data[node_label]})\n",
    "df.head(10)"
   ]
  },
  {
   "cell_type": "markdown",
   "metadata": {},
   "source": [
    "## Node embeddings\n",
    "\n",
    "Evaluate node embeddings as activations of the output of the last graph convolution layer in the `ClusterGCN` layer stack and visualise them, coloring nodes by their true subject label. We expect to see nice clusters of papers in the node embedding space, with papers of the same subject belonging to the same cluster.\n",
    "\n",
    "To calculate the node embeddings rather than the class predictions, we create a new model with the same inputs as we used previously `x_inp` but now the output is the embeddings `x_out` rather than the predicted class. Additionally note that the weights trained previously are kept in the new model.\n",
    "\n",
    "Note that the embeddings from the `ClusterGCN` model have a batch dimension of 1 so we `squeeze` this to get a matrix of $N_{nodes} \\times N_{emb}$."
   ]
  },
  {
   "cell_type": "code",
   "execution_count": 40,
   "metadata": {},
   "outputs": [],
   "source": [
    "x_out_flat = layers.Lambda(lambda x: K.squeeze(x, 0))(x_out)\n",
    "embedding_model = Model(inputs=x_inp, outputs=x_out_flat)"
   ]
  },
  {
   "cell_type": "code",
   "execution_count": 41,
   "metadata": {},
   "outputs": [
    {
     "name": "stdout",
     "output_type": "stream",
     "text": [
      "5/5 [==============================] - 1s 109ms/step\n"
     ]
    },
    {
     "data": {
      "text/plain": [
       "(2708, 32)"
      ]
     },
     "execution_count": 41,
     "metadata": {},
     "output_type": "execute_result"
    }
   ],
   "source": [
    "emb = embedding_model.predict_generator(all_gen, verbose=1)\n",
    "emb.shape"
   ]
  },
  {
   "cell_type": "markdown",
   "metadata": {},
   "source": [
    "Project the embeddings to 2d using either TSNE or PCA transform, and visualise, coloring nodes by their true subject label"
   ]
  },
  {
   "cell_type": "code",
   "execution_count": 42,
   "metadata": {},
   "outputs": [],
   "source": [
    "from sklearn.decomposition import PCA\n",
    "from sklearn.manifold import TSNE\n",
    "import pandas as pd\n",
    "import numpy as np"
   ]
  },
  {
   "cell_type": "markdown",
   "metadata": {},
   "source": [
    "**Prediction Node Order**\n",
    "\n",
    "The predictions are not returned in the same order as the input nodes given. The generator object internally maintains the order of predictions. These are stored in the object's member variable `node_order`. We use `node_order` to re-index the `node_data` DataFrame such that the prediction order in `y` corresponds to that of node embeddings in `X`."
   ]
  },
  {
   "cell_type": "code",
   "execution_count": 43,
   "metadata": {},
   "outputs": [],
   "source": [
    "X = emb\n",
    "y = np.argmax(\n",
    "    target_encoding.transform(\n",
    "        node_data[[node_label]].reindex(index=all_gen.node_order).to_dict(\"records\")\n",
    "    ),\n",
    "    axis=1,\n",
    ")"
   ]
  },
  {
   "cell_type": "code",
   "execution_count": 44,
   "metadata": {},
   "outputs": [],
   "source": [
    "if X.shape[1] > 2:\n",
    "    transform = TSNE  # or use PCA for speed\n",
    "\n",
    "    trans = transform(n_components=2)\n",
    "    emb_transformed = pd.DataFrame(trans.fit_transform(X), index=all_gen.node_order)\n",
    "    emb_transformed[\"label\"] = y\n",
    "else:\n",
    "    emb_transformed = pd.DataFrame(X, index=list(G.nodes()))\n",
    "    emb_transformed = emb_transformed.rename(columns={\"0\": 0, \"1\": 1})\n",
    "    emb_transformed[\"label\"] = y"
   ]
  },
  {
   "cell_type": "code",
   "execution_count": 45,
   "metadata": {},
   "outputs": [
    {
     "data": {
      "image/png": "[encoded data removed]",
      "text/plain": [
       "<Figure size 504x504 with 1 Axes>"
      ]
     },
     "metadata": {
      "needs_background": "light"
     },
     "output_type": "display_data"
    }
   ],
   "source": [
    "alpha = 0.7\n",
    "\n",
    "fig, ax = plt.subplots(figsize=(7, 7))\n",
    "ax.scatter(\n",
    "    emb_transformed[0],\n",
    "    emb_transformed[1],\n",
    "    c=emb_transformed[\"label\"].astype(\"category\"),\n",
    "    cmap=\"jet\",\n",
    "    alpha=alpha,\n",
    ")\n",
    "ax.set(aspect=\"equal\", xlabel=\"$X_1$\", ylabel=\"$X_2$\")\n",
    "plt.title(\n",
    "    \"{} visualization of GCN embeddings for cora dataset\".format(transform.__name__)\n",
    ")\n",
    "plt.show()"
   ]
  }
 ],
 "metadata": {
  "kernelspec": {
   "display_name": "Python 3",
   "language": "python",
   "name": "python3"
  },
  "language_info": {
   "codemirror_mode": {
    "name": "ipython",
    "version": 3
   },
   "file_extension": ".py",
   "mimetype": "text/x-python",
   "name": "python",
   "nbconvert_exporter": "python",
   "pygments_lexer": "ipython3",
   "version": "3.6.9"
  }
 },
 "nbformat": 4,
 "nbformat_minor": 4
}
